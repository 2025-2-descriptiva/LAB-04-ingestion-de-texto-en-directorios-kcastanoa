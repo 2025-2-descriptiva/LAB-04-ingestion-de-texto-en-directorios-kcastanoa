{
 "cells": [
  {
   "cell_type": "code",
   "execution_count": null,
   "id": "34b66e7f",
   "metadata": {},
   "outputs": [],
   "source": [
    "#Descomprimir la data\n",
    "import os, zipfile\n",
    "os.makedirs(\"../files/input\", exist_ok=True); zipfile.ZipFile(\"../files/input.zip\").extractall(\"../files\")\n"
   ]
  },
  {
   "cell_type": "code",
   "execution_count": 33,
   "id": "4af389f1",
   "metadata": {},
   "outputs": [],
   "source": [
    "from pathlib import Path\n",
    "import pandas as pd\n",
    "\n",
    "def load_split(split: str) -> pd.DataFrame:\n",
    "    rows = []\n",
    "    for label in (\"negative\", \"neutral\", \"positive\"):\n",
    "        # aquí pongo la ruta exacta en lugar de BASE_DIR\n",
    "        for path in Path(\"../files/input\", split, label).glob(\"*.txt\"):\n",
    "            with path.open(\"r\", encoding=\"utf-8\", errors=\"ignore\") as f:\n",
    "                for line in f:\n",
    "                    line = line.strip()\n",
    "                    if line:\n",
    "                        rows.append((line, label))\n",
    "    return pd.DataFrame(rows, columns=[\"phrase\", \"target\"])"
   ]
  },
  {
   "cell_type": "code",
   "execution_count": 34,
   "id": "e3cf72b1",
   "metadata": {},
   "outputs": [],
   "source": [
    "# Crear los DataFrames directamente\n",
    "train_dataset = load_split(\"train\")\n",
    "test_dataset = load_split(\"test\")"
   ]
  },
  {
   "cell_type": "code",
   "execution_count": 35,
   "id": "fde09c13",
   "metadata": {},
   "outputs": [
    {
     "name": "stdout",
     "output_type": "stream",
     "text": [
      "(1811, 2)\n"
     ]
    },
    {
     "data": {
      "application/vnd.microsoft.datawrangler.viewer.v0+json": {
       "columns": [
        {
         "name": "index",
         "rawType": "int64",
         "type": "integer"
        },
        {
         "name": "phrase",
         "rawType": "object",
         "type": "string"
        },
        {
         "name": "target",
         "rawType": "object",
         "type": "string"
        }
       ],
       "ref": "27749ffc-0726-4c78-8bd5-b1c3c31cf576",
       "rows": [
        [
         "0",
         "The real estate company posted a net loss of +ï¿½  x201a -ï¿½ 59.3 million +ï¿½  x201a -ï¿½ 0.21 per share compared with a net profit of +ï¿½  x201a -ï¿½ 31 million +ï¿½  x201a -ï¿½ 0.11 per share for the corresponding quarter of 2007",
         "negative"
        ],
        [
         "1",
         "The EU Commission said earlier it had fined ThyssenKrupp , United Technologies Corp 's Otis , Schindler AG and Kone Oyj a total of 992.3 mln eur for alleged cartel activity in the lift market going back twelve years",
         "negative"
        ],
        [
         "2",
         "Cargo traffic fell 1 % year-on-year to 8,561 tonnes in September 2009",
         "negative"
        ],
        [
         "3",
         "Finnish media group Talentum has issued a profit warning",
         "negative"
        ],
        [
         "4",
         "Net profit fell by almost half to +ï¿½ 5.5 million from +ï¿½ 9.4 million at the end of 2007",
         "negative"
        ]
       ],
       "shape": {
        "columns": 2,
        "rows": 5
       }
      },
      "text/html": [
       "<div>\n",
       "<style scoped>\n",
       "    .dataframe tbody tr th:only-of-type {\n",
       "        vertical-align: middle;\n",
       "    }\n",
       "\n",
       "    .dataframe tbody tr th {\n",
       "        vertical-align: top;\n",
       "    }\n",
       "\n",
       "    .dataframe thead th {\n",
       "        text-align: right;\n",
       "    }\n",
       "</style>\n",
       "<table border=\"1\" class=\"dataframe\">\n",
       "  <thead>\n",
       "    <tr style=\"text-align: right;\">\n",
       "      <th></th>\n",
       "      <th>phrase</th>\n",
       "      <th>target</th>\n",
       "    </tr>\n",
       "  </thead>\n",
       "  <tbody>\n",
       "    <tr>\n",
       "      <th>0</th>\n",
       "      <td>The real estate company posted a net loss of +...</td>\n",
       "      <td>negative</td>\n",
       "    </tr>\n",
       "    <tr>\n",
       "      <th>1</th>\n",
       "      <td>The EU Commission said earlier it had fined Th...</td>\n",
       "      <td>negative</td>\n",
       "    </tr>\n",
       "    <tr>\n",
       "      <th>2</th>\n",
       "      <td>Cargo traffic fell 1 % year-on-year to 8,561 t...</td>\n",
       "      <td>negative</td>\n",
       "    </tr>\n",
       "    <tr>\n",
       "      <th>3</th>\n",
       "      <td>Finnish media group Talentum has issued a prof...</td>\n",
       "      <td>negative</td>\n",
       "    </tr>\n",
       "    <tr>\n",
       "      <th>4</th>\n",
       "      <td>Net profit fell by almost half to +ï¿½ 5.5 mil...</td>\n",
       "      <td>negative</td>\n",
       "    </tr>\n",
       "  </tbody>\n",
       "</table>\n",
       "</div>"
      ],
      "text/plain": [
       "                                              phrase    target\n",
       "0  The real estate company posted a net loss of +...  negative\n",
       "1  The EU Commission said earlier it had fined Th...  negative\n",
       "2  Cargo traffic fell 1 % year-on-year to 8,561 t...  negative\n",
       "3  Finnish media group Talentum has issued a prof...  negative\n",
       "4  Net profit fell by almost half to +ï¿½ 5.5 mil...  negative"
      ]
     },
     "execution_count": 35,
     "metadata": {},
     "output_type": "execute_result"
    }
   ],
   "source": [
    "print(train_dataset.shape)\n",
    "train_dataset.head()"
   ]
  },
  {
   "cell_type": "code",
   "execution_count": 37,
   "id": "30f814ef",
   "metadata": {},
   "outputs": [
    {
     "name": "stdout",
     "output_type": "stream",
     "text": [
      "(453, 2)\n"
     ]
    },
    {
     "data": {
      "application/vnd.microsoft.datawrangler.viewer.v0+json": {
       "columns": [
        {
         "name": "index",
         "rawType": "int64",
         "type": "integer"
        },
        {
         "name": "phrase",
         "rawType": "object",
         "type": "string"
        },
        {
         "name": "target",
         "rawType": "object",
         "type": "string"
        }
       ],
       "ref": "09325e26-06b2-4e39-a83d-a36190dfc90a",
       "rows": [
        [
         "0",
         "Jan. 6 -- Ford is struggling in the face of slowing truck and SUV sales and a surfeit of up-to-date , gotta-have cars",
         "negative"
        ],
        [
         "1",
         "( ADPnews ) - Feb 3 , 2010 - Finland-based steel maker Rautaruukki Oyj ( HEL : RTRKS ) , or Ruukki , said today it slipped to a larger-than-expected pretax loss of EUR 46 million ( USD 64.5 m ) in the fourth quarter of 2009 from",
         "negative"
        ],
        [
         "2",
         "In Q2 of 2009 , profit before taxes amounted to EUR 13.6 mn , down from EUR 26.8 mn in Q2 of 2008",
         "negative"
        ],
        [
         "3",
         "ADPnews - Jul 17 , 2009 - Finland-based steel maker Rautaruukki Oyj Ruukki HEL : RTRKS said today it slipped to a net loss of EUR 184 million USD 259.7 m for the first half of 2009 from a net profit of EUR",
         "negative"
        ],
        [
         "4",
         "Salonen added that data shows producers ' pulp inventories in North America are declining .",
         "negative"
        ]
       ],
       "shape": {
        "columns": 2,
        "rows": 5
       }
      },
      "text/html": [
       "<div>\n",
       "<style scoped>\n",
       "    .dataframe tbody tr th:only-of-type {\n",
       "        vertical-align: middle;\n",
       "    }\n",
       "\n",
       "    .dataframe tbody tr th {\n",
       "        vertical-align: top;\n",
       "    }\n",
       "\n",
       "    .dataframe thead th {\n",
       "        text-align: right;\n",
       "    }\n",
       "</style>\n",
       "<table border=\"1\" class=\"dataframe\">\n",
       "  <thead>\n",
       "    <tr style=\"text-align: right;\">\n",
       "      <th></th>\n",
       "      <th>phrase</th>\n",
       "      <th>target</th>\n",
       "    </tr>\n",
       "  </thead>\n",
       "  <tbody>\n",
       "    <tr>\n",
       "      <th>0</th>\n",
       "      <td>Jan. 6 -- Ford is struggling in the face of sl...</td>\n",
       "      <td>negative</td>\n",
       "    </tr>\n",
       "    <tr>\n",
       "      <th>1</th>\n",
       "      <td>( ADPnews ) - Feb 3 , 2010 - Finland-based ste...</td>\n",
       "      <td>negative</td>\n",
       "    </tr>\n",
       "    <tr>\n",
       "      <th>2</th>\n",
       "      <td>In Q2 of 2009 , profit before taxes amounted t...</td>\n",
       "      <td>negative</td>\n",
       "    </tr>\n",
       "    <tr>\n",
       "      <th>3</th>\n",
       "      <td>ADPnews - Jul 17 , 2009 - Finland-based steel ...</td>\n",
       "      <td>negative</td>\n",
       "    </tr>\n",
       "    <tr>\n",
       "      <th>4</th>\n",
       "      <td>Salonen added that data shows producers ' pulp...</td>\n",
       "      <td>negative</td>\n",
       "    </tr>\n",
       "  </tbody>\n",
       "</table>\n",
       "</div>"
      ],
      "text/plain": [
       "                                              phrase    target\n",
       "0  Jan. 6 -- Ford is struggling in the face of sl...  negative\n",
       "1  ( ADPnews ) - Feb 3 , 2010 - Finland-based ste...  negative\n",
       "2  In Q2 of 2009 , profit before taxes amounted t...  negative\n",
       "3  ADPnews - Jul 17 , 2009 - Finland-based steel ...  negative\n",
       "4  Salonen added that data shows producers ' pulp...  negative"
      ]
     },
     "execution_count": 37,
     "metadata": {},
     "output_type": "execute_result"
    }
   ],
   "source": [
    "print(test_dataset.shape)\n",
    "test_dataset.head()"
   ]
  },
  {
   "cell_type": "code",
   "execution_count": 38,
   "id": "e5a77710",
   "metadata": {},
   "outputs": [
    {
     "name": "stdout",
     "output_type": "stream",
     "text": [
      "target\n",
      "neutral     274\n",
      "positive    112\n",
      "negative     67\n",
      "Name: count, dtype: int64\n"
     ]
    }
   ],
   "source": [
    "counts = test_dataset[\"target\"].value_counts()\n",
    "print(counts)"
   ]
  },
  {
   "cell_type": "code",
   "execution_count": 39,
   "id": "d401ad54",
   "metadata": {},
   "outputs": [
    {
     "name": "stdout",
     "output_type": "stream",
     "text": [
      "target\n",
      "neutral     1117\n",
      "positive     458\n",
      "negative     236\n",
      "Name: count, dtype: int64\n"
     ]
    }
   ],
   "source": [
    "counts = train_dataset[\"target\"].value_counts()\n",
    "print(counts)"
   ]
  },
  {
   "cell_type": "code",
   "execution_count": 40,
   "id": "3560a0f0",
   "metadata": {},
   "outputs": [],
   "source": [
    "# Escritura de la tabla en el disco\n",
    "import os\n",
    "\n",
    "if not os.path.exists(\"../files/output/\"):\n",
    "    os.makedirs(\"../files/output/\")\n",
    "\n",
    "train_dataset.to_csv(\"../files/output/train_dataset.csv\",sep=\",\",header=True,)\n",
    "test_dataset.to_csv(\"../files/output/test_dataset.csv\",sep= \",\", header=True,)"
   ]
  }
 ],
 "metadata": {
  "kernelspec": {
   "display_name": ".venv",
   "language": "python",
   "name": "python3"
  },
  "language_info": {
   "codemirror_mode": {
    "name": "ipython",
    "version": 3
   },
   "file_extension": ".py",
   "mimetype": "text/x-python",
   "name": "python",
   "nbconvert_exporter": "python",
   "pygments_lexer": "ipython3",
   "version": "3.9.13"
  }
 },
 "nbformat": 4,
 "nbformat_minor": 5
}
